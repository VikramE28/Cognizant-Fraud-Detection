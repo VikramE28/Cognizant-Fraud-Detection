{
 "cells": [
  {
   "cell_type": "code",
   "execution_count": null,
   "id": "1cf509c5",
   "metadata": {},
   "outputs": [],
   "source": [
    "import pandas as pd\n",
    "import numpy as np"
   ]
  },
  {
   "cell_type": "code",
   "execution_count": null,
   "id": "e42cb66d",
   "metadata": {},
   "outputs": [],
   "source": [
    "import matplotlib.pyplot as plt"
   ]
  },
  {
   "cell_type": "code",
   "execution_count": null,
   "id": "fa173ed2",
   "metadata": {},
   "outputs": [],
   "source": [
    "train = pd.read_csv(\"Train-1542865627584.csv\")  "
   ]
  },
  {
   "cell_type": "code",
   "execution_count": null,
   "id": "d0dc96ea",
   "metadata": {},
   "outputs": [],
   "source": [
    "pd.set_option(\"display.max_column\",999)"
   ]
  },
  {
   "cell_type": "code",
   "execution_count": null,
   "id": "055f7410",
   "metadata": {},
   "outputs": [],
   "source": [
    "test_ben = pd.read_csv(\"Test_Beneficiarydata-1542969243754.csv\")"
   ]
  },
  {
   "cell_type": "code",
   "execution_count": null,
   "id": "b1dc9c49",
   "metadata": {},
   "outputs": [],
   "source": [
    "test = pd.read_csv(\"Test-1542969243754.csv\")"
   ]
  },
  {
   "cell_type": "code",
   "execution_count": null,
   "id": "3ce3aa2a",
   "metadata": {},
   "outputs": [],
   "source": [
    "test_in = pd.read_csv(\"Test_Inpatientdata-1542969243754.csv\")"
   ]
  },
  {
   "cell_type": "code",
   "execution_count": null,
   "id": "8f70633a",
   "metadata": {},
   "outputs": [],
   "source": [
    "test_out = pd.read_csv(\"Test_Outpatientdata-1542969243754.csv\")"
   ]
  },
  {
   "cell_type": "code",
   "execution_count": null,
   "id": "e7269398",
   "metadata": {},
   "outputs": [],
   "source": [
    "train_ben = pd.read_csv(\"Train_Beneficiarydata-1542865627584.csv\")"
   ]
  },
  {
   "cell_type": "code",
   "execution_count": null,
   "id": "dc90b616",
   "metadata": {},
   "outputs": [],
   "source": [
    "train_in = pd.read_csv(\"Train_Inpatientdata-1542865627584.csv\")"
   ]
  },
  {
   "cell_type": "code",
   "execution_count": null,
   "id": "f7f22852",
   "metadata": {},
   "outputs": [],
   "source": [
    "train_out = pd.read_csv(\"Train_Outpatientdata-1542865627584.csv\")"
   ]
  },
  {
   "cell_type": "code",
   "execution_count": null,
   "id": "5a6a95c3",
   "metadata": {},
   "outputs": [],
   "source": [
    "train_ben.head()"
   ]
  },
  {
   "cell_type": "code",
   "execution_count": null,
   "id": "b844ba3d",
   "metadata": {},
   "outputs": [],
   "source": [
    "train_ben['RenalDiseaseIndicator'].unique()"
   ]
  },
  {
   "cell_type": "code",
   "execution_count": null,
   "id": "5287cb0c",
   "metadata": {},
   "outputs": [],
   "source": [
    "train_ben['RenalDiseaseIndicator'] = train_ben['RenalDiseaseIndicator'].replace('Y',1)"
   ]
  },
  {
   "cell_type": "code",
   "execution_count": null,
   "id": "98cccfa1",
   "metadata": {},
   "outputs": [],
   "source": [
    "train_ben['RenalDiseaseIndicator'] = train_ben['RenalDiseaseIndicator'].replace('0',0)"
   ]
  },
  {
   "cell_type": "code",
   "execution_count": null,
   "id": "90d5e951",
   "metadata": {},
   "outputs": [],
   "source": [
    "train_ben = train_ben.drop(columns=['NoOfMonths_PartACov','NoOfMonths_PartBCov'],axis=1)"
   ]
  },
  {
   "cell_type": "code",
   "execution_count": null,
   "id": "6042a9ae",
   "metadata": {},
   "outputs": [],
   "source": [
    "train_ben"
   ]
  },
  {
   "cell_type": "code",
   "execution_count": null,
   "id": "b42ebb96",
   "metadata": {},
   "outputs": [],
   "source": [
    "for i in train_ben.columns:\n",
    "    if \"ChronicCond\" in i:\n",
    "        train_ben[i] = train_ben[i].replace(2,0)"
   ]
  },
  {
   "cell_type": "code",
   "execution_count": null,
   "id": "11706c72",
   "metadata": {},
   "outputs": [],
   "source": [
    "# Cancer and Stroke data are imbalanced\n",
    "train_ben['ChronicCond_Alzheimer'].unique()"
   ]
  },
  {
   "cell_type": "code",
   "execution_count": null,
   "id": "972a014c",
   "metadata": {},
   "outputs": [],
   "source": [
    "train_in.head()"
   ]
  },
  {
   "cell_type": "code",
   "execution_count": null,
   "id": "c2735fbc",
   "metadata": {},
   "outputs": [],
   "source": [
    "train_in.columns"
   ]
  },
  {
   "cell_type": "code",
   "execution_count": null,
   "id": "3e0fe325",
   "metadata": {},
   "outputs": [],
   "source": [
    "train_out.head()"
   ]
  },
  {
   "cell_type": "code",
   "execution_count": null,
   "id": "3f12f4f8",
   "metadata": {},
   "outputs": [],
   "source": [
    "train_ben.head()"
   ]
  },
  {
   "cell_type": "code",
   "execution_count": null,
   "id": "08014600",
   "metadata": {},
   "outputs": [],
   "source": [
    "train_ben['DOD'].isna().sum()"
   ]
  },
  {
   "cell_type": "code",
   "execution_count": null,
   "id": "d3e2b5bb",
   "metadata": {},
   "outputs": [],
   "source": [
    "train_ben['DOD'] = train_ben['DOD'].fillna('2009-12-01')"
   ]
  },
  {
   "cell_type": "code",
   "execution_count": null,
   "id": "008e7694",
   "metadata": {},
   "outputs": [],
   "source": [
    "train_ben.head()"
   ]
  },
  {
   "cell_type": "code",
   "execution_count": null,
   "id": "6836c906",
   "metadata": {},
   "outputs": [],
   "source": [
    "train_in.head()"
   ]
  },
  {
   "cell_type": "code",
   "execution_count": null,
   "id": "5c116658",
   "metadata": {},
   "outputs": [],
   "source": [
    "train_in['ClaimStartDt'] = pd.to_datetime(train_in['ClaimStartDt'])"
   ]
  },
  {
   "cell_type": "code",
   "execution_count": null,
   "id": "d066390f",
   "metadata": {},
   "outputs": [],
   "source": [
    "train_in['ClaimEndDt'] = pd.to_datetime(train_in['ClaimEndDt'])"
   ]
  },
  {
   "cell_type": "code",
   "execution_count": null,
   "id": "7c918dfb",
   "metadata": {},
   "outputs": [],
   "source": [
    "train_in['ClaimSettlementDelay'] = train_in['ClaimEndDt'] - train_in['ClaimStartDt']"
   ]
  },
  {
   "cell_type": "code",
   "execution_count": null,
   "id": "6dc19e27",
   "metadata": {},
   "outputs": [],
   "source": [
    "train_in.head()"
   ]
  },
  {
   "cell_type": "code",
   "execution_count": null,
   "id": "841e71dc",
   "metadata": {},
   "outputs": [],
   "source": [
    "train_in['ClaimSettlementDelay'] = ((train_in['ClaimEndDt'] - train_in['ClaimStartDt']).dt.days) + 1"
   ]
  },
  {
   "cell_type": "code",
   "execution_count": null,
   "id": "e1f6c1c1",
   "metadata": {},
   "outputs": [],
   "source": [
    "train_in.head()"
   ]
  },
  {
   "cell_type": "code",
   "execution_count": null,
   "id": "6edc314d",
   "metadata": {},
   "outputs": [],
   "source": [
    "train_in=train_in.drop(columns=['ClaimStartDt', 'ClaimEndDt'],axis=1)"
   ]
  },
  {
   "cell_type": "code",
   "execution_count": null,
   "id": "2de416a0",
   "metadata": {},
   "outputs": [],
   "source": [
    "train_in.head()"
   ]
  },
  {
   "cell_type": "code",
   "execution_count": null,
   "id": "123aa1fc",
   "metadata": {},
   "outputs": [],
   "source": [
    "train_in = train_in.drop(columns=['ClmProcedureCode_4','ClmProcedureCode_5','ClmProcedureCode_6'],axis=1)"
   ]
  },
  {
   "cell_type": "code",
   "execution_count": null,
   "id": "817cd37c",
   "metadata": {},
   "outputs": [],
   "source": [
    "train_in.head()"
   ]
  },
  {
   "cell_type": "code",
   "execution_count": null,
   "id": "f0e99fd0",
   "metadata": {},
   "outputs": [],
   "source": [
    "train_out.head()"
   ]
  },
  {
   "cell_type": "code",
   "execution_count": null,
   "id": "aab58c35",
   "metadata": {},
   "outputs": [],
   "source": [
    "train_out['ClmProcedureCode_4'].unique() # 6 5 4"
   ]
  },
  {
   "cell_type": "code",
   "execution_count": null,
   "id": "1a1b574f",
   "metadata": {},
   "outputs": [],
   "source": [
    "train_out = train_out.drop(columns=['ClmProcedureCode_4','ClmProcedureCode_5','ClmProcedureCode_6'],axis=1)"
   ]
  },
  {
   "cell_type": "code",
   "execution_count": null,
   "id": "e52d7f0e",
   "metadata": {},
   "outputs": [],
   "source": [
    "train_out.head()"
   ]
  },
  {
   "cell_type": "code",
   "execution_count": null,
   "id": "19312702",
   "metadata": {},
   "outputs": [],
   "source": [
    "train_out['ClaimStartDt'] = pd.to_datetime(train_out['ClaimStartDt'])"
   ]
  },
  {
   "cell_type": "code",
   "execution_count": null,
   "id": "94ac2dcb",
   "metadata": {},
   "outputs": [],
   "source": [
    "train_out['ClaimEndDt'] = pd.to_datetime(train_out['ClaimEndDt'])"
   ]
  },
  {
   "cell_type": "code",
   "execution_count": null,
   "id": "3c8db28c",
   "metadata": {},
   "outputs": [],
   "source": [
    "train_out['ClaimSettlementDelay'] = ((train_out['ClaimEndDt'] - train_out['ClaimStartDt']).dt.days) + 1"
   ]
  },
  {
   "cell_type": "code",
   "execution_count": null,
   "id": "706b3415",
   "metadata": {},
   "outputs": [],
   "source": [
    "train_out.head()"
   ]
  },
  {
   "cell_type": "code",
   "execution_count": null,
   "id": "1e822f03",
   "metadata": {},
   "outputs": [],
   "source": [
    "train_out['ClaimSettlementDelay'].value_counts()"
   ]
  },
  {
   "cell_type": "code",
   "execution_count": null,
   "id": "9e9b3c19",
   "metadata": {},
   "outputs": [],
   "source": [
    "train_out=train_out.drop(columns=['ClaimStartDt', 'ClaimEndDt'],axis=1)"
   ]
  },
  {
   "cell_type": "code",
   "execution_count": null,
   "id": "591bbda9",
   "metadata": {},
   "outputs": [],
   "source": [
    "train_out.head()"
   ]
  },
  {
   "cell_type": "code",
   "execution_count": null,
   "id": "55775dc6",
   "metadata": {},
   "outputs": [],
   "source": [
    "for i in train_out.columns:\n",
    "    l = len(train_out[i])\n",
    "    print(i,\":\",(train_out[i].isna().sum()/l)*100)"
   ]
  },
  {
   "cell_type": "code",
   "execution_count": null,
   "id": "3a5d9457",
   "metadata": {},
   "outputs": [],
   "source": [
    "train_out.shape"
   ]
  },
  {
   "cell_type": "code",
   "execution_count": null,
   "id": "3ae20a91",
   "metadata": {},
   "outputs": [],
   "source": [
    "for i in train_in.columns:\n",
    "    l = len(train_in[i])\n",
    "    print(i,\":\",(train_in[i].isna().sum()/l)*100)"
   ]
  },
  {
   "cell_type": "code",
   "execution_count": null,
   "id": "8723eb63",
   "metadata": {},
   "outputs": [],
   "source": [
    "for i in train_out['ClaimID']:\n",
    "    if i in train_in['ClaimID']:\n",
    "        print(i)\n",
    "else:\n",
    "    print(\"Found nothing\")"
   ]
  },
  {
   "cell_type": "code",
   "execution_count": null,
   "id": "30931929",
   "metadata": {},
   "outputs": [],
   "source": [
    "for i in train_out['BeneID']:\n",
    "    if i in train_in['BeneID']:\n",
    "        print(i)\n",
    "else:\n",
    "    print(\"Found nothing\")"
   ]
  },
  {
   "cell_type": "code",
   "execution_count": null,
   "id": "1c88f2f0",
   "metadata": {},
   "outputs": [],
   "source": [
    "517737*0.1"
   ]
  },
  {
   "cell_type": "code",
   "execution_count": null,
   "id": "25b58bfb",
   "metadata": {},
   "outputs": [],
   "source": [
    "train_ben.head()"
   ]
  },
  {
   "cell_type": "code",
   "execution_count": null,
   "id": "33b4f7ad",
   "metadata": {},
   "outputs": [],
   "source": [
    "train_ben['DOB'] = pd.to_datetime(train_ben['DOB'])"
   ]
  },
  {
   "cell_type": "code",
   "execution_count": null,
   "id": "4565cbff",
   "metadata": {},
   "outputs": [],
   "source": [
    "train_ben[\"Age\"] = ((train_ben['DOD'] - train_ben['DOB']).dt.days) "
   ]
  },
  {
   "cell_type": "code",
   "execution_count": null,
   "id": "d90bd2f6",
   "metadata": {},
   "outputs": [],
   "source": [
    "train_ben['DOD'] = pd.to_datetime(train_ben['DOD'])"
   ]
  },
  {
   "cell_type": "code",
   "execution_count": null,
   "id": "c467c109",
   "metadata": {},
   "outputs": [],
   "source": [
    "train_ben[\"Age\"] = round(train_ben[\"Age\"]//365)"
   ]
  },
  {
   "cell_type": "code",
   "execution_count": null,
   "id": "001cf975",
   "metadata": {},
   "outputs": [],
   "source": [
    "train_ben.head()"
   ]
  },
  {
   "cell_type": "code",
   "execution_count": null,
   "id": "b39eb416",
   "metadata": {},
   "outputs": [],
   "source": [
    "train_ben = train_ben.drop(columns=['DOB','DOD'],axis=1)"
   ]
  },
  {
   "cell_type": "code",
   "execution_count": null,
   "id": "31d2bd6c",
   "metadata": {},
   "outputs": [],
   "source": [
    "train_ben.head()"
   ]
  },
  {
   "cell_type": "code",
   "execution_count": null,
   "id": "5656d1f1",
   "metadata": {},
   "outputs": [],
   "source": [
    "#Adding some new features"
   ]
  },
  {
   "cell_type": "code",
   "execution_count": null,
   "id": "5de980fc",
   "metadata": {},
   "outputs": [],
   "source": [
    "train_in.head()"
   ]
  },
  {
   "cell_type": "code",
   "execution_count": null,
   "id": "cde5e072",
   "metadata": {},
   "outputs": [],
   "source": [
    "train_out.head()"
   ]
  },
  {
   "cell_type": "code",
   "execution_count": null,
   "id": "81e05932",
   "metadata": {},
   "outputs": [],
   "source": [
    "train_in['TotalClaimAmount'] = train_in['InscClaimAmtReimbursed'] + train_in['DeductibleAmtPaid']"
   ]
  },
  {
   "cell_type": "code",
   "execution_count": null,
   "id": "5b90a42f",
   "metadata": {},
   "outputs": [],
   "source": [
    "train_in.head()"
   ]
  },
  {
   "cell_type": "code",
   "execution_count": null,
   "id": "ccf502f8",
   "metadata": {},
   "outputs": [],
   "source": [
    "train_ben.head()"
   ]
  },
  {
   "cell_type": "code",
   "execution_count": null,
   "id": "7821cbca",
   "metadata": {},
   "outputs": [],
   "source": [
    "train_ben['IPTotalAmount'] = train_ben['IPAnnualReimbursementAmt'] + train_ben['IPAnnualDeductibleAmt']"
   ]
  },
  {
   "cell_type": "code",
   "execution_count": null,
   "id": "6f4e1157",
   "metadata": {},
   "outputs": [],
   "source": [
    "train_in.head()"
   ]
  },
  {
   "cell_type": "code",
   "execution_count": null,
   "id": "e98bb475",
   "metadata": {},
   "outputs": [],
   "source": [
    "train_out.head()"
   ]
  },
  {
   "cell_type": "code",
   "execution_count": null,
   "id": "82b59383",
   "metadata": {},
   "outputs": [],
   "source": [
    "train_ben['OPTotalAmount'] = train_ben['OPAnnualReimbursementAmt'] + train_ben['OPAnnualDeductibleAmt']"
   ]
  },
  {
   "cell_type": "code",
   "execution_count": null,
   "id": "3457cc58",
   "metadata": {},
   "outputs": [],
   "source": [
    "train_ben.head()"
   ]
  },
  {
   "cell_type": "code",
   "execution_count": null,
   "id": "98b9865e",
   "metadata": {},
   "outputs": [],
   "source": []
  }
 ],
 "metadata": {
  "kernelspec": {
   "display_name": "Python 3 (ipykernel)",
   "language": "python",
   "name": "python3"
  },
  "language_info": {
   "codemirror_mode": {
    "name": "ipython",
    "version": 3
   },
   "file_extension": ".py",
   "mimetype": "text/x-python",
   "name": "python",
   "nbconvert_exporter": "python",
   "pygments_lexer": "ipython3",
   "version": "3.9.13"
  }
 },
 "nbformat": 4,
 "nbformat_minor": 5
}
